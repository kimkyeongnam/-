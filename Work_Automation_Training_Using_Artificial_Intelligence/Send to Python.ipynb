{
 "cells": [
  {
   "cell_type": "markdown",
   "metadata": {},
   "source": [
    "# Email 보내기"
   ]
  },
  {
   "cell_type": "markdown",
   "metadata": {},
   "source": [
    "Settings -> Forwarding ans POP/IMAP -> IMAP access -> Enable IMAP"
   ]
  },
  {
   "cell_type": "code",
   "execution_count": 2,
   "metadata": {},
   "outputs": [],
   "source": [
    "import smtplib"
   ]
  },
  {
   "cell_type": "code",
   "execution_count": 3,
   "metadata": {},
   "outputs": [],
   "source": [
    "fromaddress = 'kkyy0126@gmail.com' #보내고 싶은 이메일 주소\n",
    "pw = '비공개'\n",
    "toaddress = 'kkyy0126@naver.com' #받고 싶은 이메일 주소\n",
    "\n",
    "text = '이 메일은 영국으로부터 시작되며....(이하생략)' #이메일 주소\n",
    "euc_text = text.encode('euc-kr') #한국어 인식 가능하도록. 안하면 오류남"
   ]
  },
  {
   "cell_type": "markdown",
   "metadata": {},
   "source": [
    "#### *포트 주소 확인 방법\n",
    "https://support.google.com/mail/answer/7126229?visit_id=636859633059967405-2184782878&hl=ko&rd=1  \n",
    "TLS/STARTTLS용 포트: 587"
   ]
  },
  {
   "cell_type": "code",
   "execution_count": 4,
   "metadata": {},
   "outputs": [
    {
     "data": {
      "text/plain": [
       "(220, b'2.0.0 Ready to start TLS')"
      ]
     },
     "execution_count": 4,
     "metadata": {},
     "output_type": "execute_result"
    }
   ],
   "source": [
    "s = smtplib.SMTP('smtp.gmail.com', 587) \n",
    "\n",
    "s.starttls()"
   ]
  },
  {
   "cell_type": "markdown",
   "metadata": {},
   "source": [
    "#### *보안 수준이 낮은 앱의 액세스: \"허용\"으로 설정\n",
    "https://myaccount.google.com/security"
   ]
  },
  {
   "cell_type": "code",
   "execution_count": 18,
   "metadata": {
    "scrolled": false
   },
   "outputs": [
    {
     "data": {
      "text/plain": [
       "(221, b'2.0.0 closing connection c4sm9862023pgq.85 - gsmtp')"
      ]
     },
     "execution_count": 18,
     "metadata": {},
     "output_type": "execute_result"
    }
   ],
   "source": [
    "s.login(fromaddress, pw)\n",
    "\n",
    "s.sendmail(fromaddress, toaddress, euc_text)\n",
    "#s.sendmail(from_addr=fromaddress, to_addrs=toaddress, msg=euc_text)\n",
    "\n",
    "s.quit()"
   ]
  },
  {
   "cell_type": "markdown",
   "metadata": {},
   "source": [
    "# SMS 보내기\n",
    "pip install twilio  \n",
    "\n",
    "https://www.twilio.com/ 가입 후 console dashboard에서 sid와 token 획득  \n",
    "https://www.twilio.com/console/sms/settings/geo-permissions  <<국가설정(korea) \n",
    "\n",
    "programmable SMS에서 가상번호 획득  \n",
    "이후 Learn&Build>Build에 들어가서 Body에 보낼 내용을 입력, Request를 Python으로 변경.  \n",
    "코드를 불러와서 붙여넣기"
   ]
  },
  {
   "cell_type": "code",
   "execution_count": 26,
   "metadata": {},
   "outputs": [],
   "source": [
    "account_sid = '비공개'\n",
    "auth_token = '비공개'"
   ]
  },
  {
   "cell_type": "code",
   "execution_count": 27,
   "metadata": {},
   "outputs": [],
   "source": [
    "from twilio.rest import Client"
   ]
  },
  {
   "cell_type": "code",
   "execution_count": 28,
   "metadata": {},
   "outputs": [
    {
     "name": "stdout",
     "output_type": "stream",
     "text": [
      "SMc89d32ca8d494debb85c2766fe865156\n"
     ]
    }
   ],
   "source": [
    "account_sid = '비공개' \n",
    "auth_token = '비공개' \n",
    "client = Client(account_sid, auth_token) \n",
    " \n",
    "message = client.messages.create( \n",
    "                              from_='가상번호(비공개)',  \n",
    "                              body='오늘은 일요일이다 야호야호',      \n",
    "                              to='실제전화번호(비공개)' \n",
    "                          ) \n",
    " \n",
    "print(message.sid)"
   ]
  },
  {
   "cell_type": "markdown",
   "metadata": {},
   "source": [
    "# Slack 보내기\n",
    "pip install slackclient  \n",
    "https://api.slack.com/custom-integrations/legacy-tokens  <<토큰얻기"
   ]
  },
  {
   "cell_type": "code",
   "execution_count": 5,
   "metadata": {},
   "outputs": [],
   "source": [
    "slack_token = '비공개'"
   ]
  },
  {
   "cell_type": "code",
   "execution_count": 31,
   "metadata": {},
   "outputs": [],
   "source": [
    "from slackclient import SlackClient"
   ]
  },
  {
   "cell_type": "code",
   "execution_count": 32,
   "metadata": {},
   "outputs": [
    {
     "data": {
      "text/plain": [
       "{'ok': True,\n",
       " 'channel': 'CG94C4V8A',\n",
       " 'ts': '1550372742.005400',\n",
       " 'message': {'type': 'message',\n",
       "  'subtype': 'bot_message',\n",
       "  'text': 'meowmeow hi im nyan cat',\n",
       "  'ts': '1550372742.005400',\n",
       "  'username': 'meow',\n",
       "  'bot_id': 'BGAH0192A'},\n",
       " 'headers': {'Content-Type': 'application/json; charset=utf-8',\n",
       "  'Content-Length': '160',\n",
       "  'Connection': 'keep-alive',\n",
       "  'Date': 'Sun, 17 Feb 2019 03:05:42 GMT',\n",
       "  'Server': 'Apache',\n",
       "  'Expires': 'Mon, 26 Jul 1997 05:00:00 GMT',\n",
       "  'X-Content-Type-Options': 'nosniff',\n",
       "  'Pragma': 'no-cache',\n",
       "  'Vary': 'Accept-Encoding',\n",
       "  'X-Accepted-OAuth-Scopes': 'chat:write:bot,post',\n",
       "  'X-OAuth-Scopes': 'identify,read,post,client,apps',\n",
       "  'Cache-Control': 'private, no-cache, no-store, must-revalidate',\n",
       "  'X-XSS-Protection': '0',\n",
       "  'X-Slack-Req-Id': '660d2f61-5513-4db6-9174-a6af3fd5c4ee',\n",
       "  'Strict-Transport-Security': 'max-age=31536000; includeSubDomains; preload',\n",
       "  'Referrer-Policy': 'no-referrer',\n",
       "  'Content-Encoding': 'gzip',\n",
       "  'Access-Control-Allow-Origin': '*',\n",
       "  'X-Via': 'haproxy-www-1z9r',\n",
       "  'X-Cache': 'Miss from cloudfront',\n",
       "  'Via': '1.1 88de7eb5c563eab2a3e1a3424b76fb64.cloudfront.net (CloudFront)',\n",
       "  'X-Amz-Cf-Id': 'hq5aYj2J2jH3eG8-ArF5beWUVmVe0d2c8CTD62g-yKXi9Cj8k1Ignw=='}}"
      ]
     },
     "execution_count": 32,
     "metadata": {},
     "output_type": "execute_result"
    }
   ],
   "source": [
    "sc = SlackClient(slack_token)\n",
    "sc.api_call(\"chat.postMessage\",\n",
    "            channel = 'python_notice',\n",
    "            username = '연습',    #아무거나 작성 가능\n",
    "            text = '으아아아아아앙아아ㅏㅏㅇ')"
   ]
  }
 ],
 "metadata": {
  "kernelspec": {
   "display_name": "Python 3",
   "language": "python",
   "name": "python3"
  },
  "language_info": {
   "codemirror_mode": {
    "name": "ipython",
    "version": 3
   },
   "file_extension": ".py",
   "mimetype": "text/x-python",
   "name": "python",
   "nbconvert_exporter": "python",
   "pygments_lexer": "ipython3",
   "version": "3.7.1"
  }
 },
 "nbformat": 4,
 "nbformat_minor": 2
}

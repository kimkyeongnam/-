{
 "cells": [
  {
   "cell_type": "markdown",
   "metadata": {},
   "source": [
    "# [Word2Vec으로 문장을 벡터로 변환하기]\n",
    "Word2Vec은 문장 내부의 단어를 벡터로 변환하는 도구이다.  \n",
    "단어의 연결을 기반으로 단어의 연관성을 벡터로 만들어준다. 즉 단어를 벡터로 표현하는 것이다.  \n",
    "\n",
    "아빠:남자+여자->엄마  \n",
    "왕자:남성+여성->공주  라는 결과가 나온다.\n",
    "\n",
    "\n",
    "Word2Vec을 구현하는 도구는 굉장히 많지만, 실행 속도가 빠르고 파이썬으로 실행할 수 있는 \"Gensim\" 라이브러리를 이용할 것이다.\n",
    "참고로 Gensim은 자연어 처리를 위한 라이브러리인데, word2vec기능도 있다.  \n",
    "\n",
    "http://konlpy.org/ko/latest/references/#corpora   >>무료공개 텍스트 데이터\n",
    "\n",
    "\n",
    "설치는 pip3 install gensim"
   ]
  },
  {
   "cell_type": "markdown",
   "metadata": {},
   "source": [
    "### 1. Gensim의 Word2Vec으로 토지 읽어보기"
   ]
  },
  {
   "cell_type": "code",
   "execution_count": 1,
   "metadata": {},
   "outputs": [],
   "source": [
    "import codecs\n",
    "from bs4 import BeautifulSoup\n",
    "from konlpy.tag import Twitter\n",
    "from gensim.models import word2vec"
   ]
  },
  {
   "cell_type": "code",
   "execution_count": 2,
   "metadata": {},
   "outputs": [
    {
     "name": "stderr",
     "output_type": "stream",
     "text": [
      "C:\\Anaconda3\\envs\\tensorflow\\lib\\site-packages\\konlpy\\tag\\_okt.py:16: UserWarning: \"Twitter\" has changed to \"Okt\" since KoNLPy v0.4.5.\n",
      "  warn('\"Twitter\" has changed to \"Okt\" since KoNLPy v0.4.5.')\n"
     ]
    },
    {
     "name": "stdout",
     "output_type": "stream",
     "text": [
      "ok\n"
     ]
    }
   ],
   "source": [
    "### utf-16 인코딩으로 파일을 열고 글자 출력하기\n",
    "fp=open(\"BEXX0003.txt\",\"r\",encoding=\"utf-16\")\n",
    "soup=BeautifulSoup(fp,\"html.parser\")\n",
    "body=soup.select_one(\"body > text\")\n",
    "text=body.getText()\n",
    "fp.close()\n",
    "\n",
    "### 텍스트를 한 줄씩 처리하기\n",
    "twitter=Twitter()\n",
    "results=[]\n",
    "lines=text.split(\"\\n\")\n",
    "for line in lines:\n",
    "    ### 형태소 분석하기\n",
    "    ### 단어의 기본형 사용\n",
    "    malist=twitter.pos(line, norm=True, stem=True)\n",
    "    r=[]\n",
    "    for word in malist:\n",
    "        # 어미/조사/구두점 등은 대상에서 제외\n",
    "        if not word[1] in [\"Josa\", \"Eomi\", \"Punctuation\"]:\n",
    "            r.append(word[0])\n",
    "    rl=(\" \".join(r)).strip()\n",
    "    results.append(rl)\n",
    "    # print(rl)  ##길어서 생략\n",
    "            \n",
    "### 파일로 출력하기\n",
    "wakati_file='toji.wakati'\n",
    "with open(wakati_file, 'w', encoding='utf-8') as fp:\n",
    "    fp.write(\"\\n\".join(results))\n",
    "\n",
    "### Word2Vec 모델 만들기\n",
    "data=word2vec.LineSentence(wakati_file)\n",
    "model=word2vec.Word2Vec(data, size=200, window=10, hs=1, min_count=2, sg=1)\n",
    "model.save(\"toji.model\")\n",
    "print(\"ok\")"
   ]
  },
  {
   "cell_type": "markdown",
   "metadata": {},
   "source": [
    "### 2. 토지 모델 살펴보기"
   ]
  },
  {
   "cell_type": "code",
   "execution_count": 3,
   "metadata": {},
   "outputs": [],
   "source": [
    "from gensim.models import word2vec\n",
    "model=word2vec.Word2Vec.load(\"toji.model\")"
   ]
  },
  {
   "cell_type": "code",
   "execution_count": 4,
   "metadata": {},
   "outputs": [
    {
     "name": "stderr",
     "output_type": "stream",
     "text": [
      "C:\\Anaconda3\\envs\\tensorflow\\lib\\site-packages\\ipykernel\\__main__.py:1: DeprecationWarning: Call to deprecated `most_similar` (Method will be removed in 4.0.0, use self.wv.most_similar() instead).\n",
      "  if __name__ == '__main__':\n"
     ]
    },
    {
     "data": {
      "text/plain": [
       "[('조상', 0.9057943820953369),\n",
       " ('원귀', 0.8923519849777222),\n",
       " ('장차', 0.8900582790374756),\n",
       " ('골골', 0.8848414421081543),\n",
       " ('보름', 0.8799642324447632),\n",
       " ('김진', 0.8776873350143433),\n",
       " ('잦다', 0.8748887777328491),\n",
       " ('굶주리다', 0.8735401630401611),\n",
       " ('은덕', 0.8722190856933594),\n",
       " ('봇짐', 0.8695168495178223)]"
      ]
     },
     "execution_count": 4,
     "metadata": {},
     "output_type": "execute_result"
    }
   ],
   "source": [
    "model.most_similar(positive=[\"땅\"])"
   ]
  },
  {
   "cell_type": "code",
   "execution_count": 5,
   "metadata": {},
   "outputs": [
    {
     "name": "stderr",
     "output_type": "stream",
     "text": [
      "C:\\Anaconda3\\envs\\tensorflow\\lib\\site-packages\\ipykernel\\__main__.py:1: DeprecationWarning: Call to deprecated `most_similar` (Method will be removed in 4.0.0, use self.wv.most_similar() instead).\n",
      "  if __name__ == '__main__':\n"
     ]
    },
    {
     "data": {
      "text/plain": [
       "[('제', 0.8392981290817261),\n",
       " ('구석', 0.8034136295318604),\n",
       " ('남정', 0.7516058683395386),\n",
       " ('말짱', 0.7510196566581726),\n",
       " ('점심', 0.7499719858169556),\n",
       " ('매', 0.7468000650405884),\n",
       " ('우리', 0.7375715374946594),\n",
       " ('새끼', 0.7374118566513062),\n",
       " ('그까짓', 0.7347567081451416),\n",
       " ('이지마', 0.7322189807891846)]"
      ]
     },
     "execution_count": 5,
     "metadata": {},
     "output_type": "execute_result"
    }
   ],
   "source": [
    "model.most_similar(positive=['집'])"
   ]
  }
 ],
 "metadata": {
  "kernelspec": {
   "display_name": "Python [conda env:tensorflow]",
   "language": "python",
   "name": "conda-env-tensorflow-py"
  },
  "language_info": {
   "codemirror_mode": {
    "name": "ipython",
    "version": 3
   },
   "file_extension": ".py",
   "mimetype": "text/x-python",
   "name": "python",
   "nbconvert_exporter": "python",
   "pygments_lexer": "ipython3",
   "version": "3.5.6"
  }
 },
 "nbformat": 4,
 "nbformat_minor": 2
}

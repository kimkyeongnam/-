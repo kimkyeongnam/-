{
 "cells": [
  {
   "cell_type": "markdown",
   "metadata": {},
   "source": [
    "# [한국어 분석(형태소 분석)]\n",
    "형태소 분석(Morphological Analysis)은 자연 언어의 문장을 \"형태소\"라는 의미를 갖는 최소 단위로 분할하고, 품사를 판별하는 작업니다.  \n",
    "영어는 형태소마다 띄어쓰기를 해서 문장을 구성하는 것이 기본이기에 어렵지 않지만,  \n",
    "아시아 계열의 언어 분석에는 나름의 노력이 필요하다.  \n",
    "\n",
    "대표적으로 문법 규칙에 의한 방법/확률적 언어 모델을 사용하는 방법이 있다.  "
   ]
  },
  {
   "cell_type": "markdown",
   "metadata": {},
   "source": [
    "### 1. 한국어 형태소 분석 라이브러리: KoNLPy\n",
    "* 한나눔, 꼬꼬마, Komoran, MeCab, 트위터 등의 형태소 분석기를 사용할 수 있다.  \n",
    "* \"아버지가방에들어가신다\"를 제대로 분석할 수 있는 분석기는 Kkma와 트위터 뿐이다.  \n",
    "\n",
    "norm: 그래욬ㅋㅋ?->그래요    \n",
    "form: 그래욬ㅋㅋ?->그렇다  \n",
    "참고로 트위터를 이용하면 품사를 쉽게 읽을 수 있다.(Kkma는 NNG, JKM, VV, EPH, EFN로 품사가 나온다)  \n",
    "\n",
    "\n",
    "(밑의 코드가 제대로 작동하지 않는다면 pip install jpype1를 입력하여 설치해주자)"
   ]
  },
  {
   "cell_type": "code",
   "execution_count": 1,
   "metadata": {},
   "outputs": [],
   "source": [
    "from konlpy.tag import Twitter"
   ]
  },
  {
   "cell_type": "code",
   "execution_count": 2,
   "metadata": {},
   "outputs": [
    {
     "name": "stderr",
     "output_type": "stream",
     "text": [
      "C:\\Anaconda3\\envs\\tensorflow\\lib\\site-packages\\konlpy\\tag\\_okt.py:16: UserWarning: \"Twitter\" has changed to \"Okt\" since KoNLPy v0.4.5.\n",
      "  warn('\"Twitter\" has changed to \"Okt\" since KoNLPy v0.4.5.')\n"
     ]
    },
    {
     "name": "stdout",
     "output_type": "stream",
     "text": [
      "[('아버지', 'Noun'), ('가방', 'Noun'), ('에', 'Josa'), ('들어가다', 'Verb'), ('.', 'Punctuation')]\n"
     ]
    }
   ],
   "source": [
    "twitter=Twitter()\n",
    "malist=twitter.pos(\"아버지 가방에 들어가신다.\",norm=True, stem=True)\n",
    "print(malist)"
   ]
  },
  {
   "cell_type": "markdown",
   "metadata": {},
   "source": [
    "### 2. 출현 빈도 분석\n",
    "예시: 독백_대학생활, 전자전사자료   \n",
    "https://ithub.korean.go.kr/user/total/database/corpusManager.do"
   ]
  },
  {
   "cell_type": "code",
   "execution_count": 3,
   "metadata": {},
   "outputs": [],
   "source": [
    "import codecs\n",
    "from konlpy.tag import Twitter\n",
    "from bs4 import BeautifulSoup"
   ]
  },
  {
   "cell_type": "code",
   "execution_count": 4,
   "metadata": {},
   "outputs": [
    {
     "name": "stderr",
     "output_type": "stream",
     "text": [
      "C:\\Anaconda3\\envs\\tensorflow\\lib\\site-packages\\konlpy\\tag\\_okt.py:16: UserWarning: \"Twitter\" has changed to \"Okt\" since KoNLPy v0.4.5.\n",
      "  warn('\"Twitter\" has changed to \"Okt\" since KoNLPy v0.4.5.')\n"
     ]
    },
    {
     "name": "stdout",
     "output_type": "stream",
     "text": [
      "것(644)그(554)말(485)안(304)소리(196)길(194)용이(193)눈(188)놈(180)내(174)사람(167)봉(165)평산(160)치수(160)얼굴(156)거(152)네(151)일(149)이(148)못(147)생각(141)댁(141)때(139)강청댁(137)수(134)집(131)서방(131)나(122)더(120)서희(119)머(116)어디(112)마을(111)최(110)년(109)김(99)칠성(97)구천이(96)니(96)뒤(91)제(90)날(90)아이(88)하나(84)두(83)녀(83)월(82)참판(82)손(81)임(79)"
     ]
    }
   ],
   "source": [
    "### utf-16 인코딩으로 파일을 열고 글자 출력하기\n",
    "fp=open(\"BEXX0003.txt\",\"r\",encoding=\"utf-16\") #토지 1권. 파일은 국립국어원 언어정부나눔터(위 사이트)에서 다운로드 할 수 있음\n",
    "soup=BeautifulSoup(fp,\"html.parser\") #txt파일 구성이 html로 되어있다.\n",
    "body=soup.select_one(\"body > text\") #body>text에 있는 글자를 모두 추출\n",
    "text=body.getText()\n",
    "fp.close()\n",
    "\n",
    "### 텍스트를 한 줄씩 처리하기\n",
    "twitter=Twitter()\n",
    "word_dic={}\n",
    "lines=text.split(\"\\n\") #줄바꿈 기준으로 텍스트를 나눔\n",
    "for line in lines:\n",
    "    malist=twitter.pos(line)\n",
    "    for word in malist:\n",
    "        if word[1]==\"Noun\":\n",
    "            if not(word[0] in word_dic):\n",
    "                word_dic[word[0]]=0\n",
    "            word_dic[word[0]]+=1\n",
    "\n",
    "\n",
    "### 명사 출력\n",
    "keys=sorted(word_dic.items(), key=lambda x:x[1], reverse=True) #빈도가 높은 순으로 정렬\n",
    "for word, count in keys[:50]:\n",
    "    print(\"{}({})\".format(word, count), end=\"\")"
   ]
  }
 ],
 "metadata": {
  "kernelspec": {
   "display_name": "Python [conda env:tensorflow]",
   "language": "python",
   "name": "conda-env-tensorflow-py"
  },
  "language_info": {
   "codemirror_mode": {
    "name": "ipython",
    "version": 3
   },
   "file_extension": ".py",
   "mimetype": "text/x-python",
   "name": "python",
   "nbconvert_exporter": "python",
   "pygments_lexer": "ipython3",
   "version": "3.5.6"
  }
 },
 "nbformat": 4,
 "nbformat_minor": 2
}

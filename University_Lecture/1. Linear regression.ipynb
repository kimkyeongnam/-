{
 "cells": [
  {
   "cell_type": "markdown",
   "metadata": {},
   "source": [
    "### [실습1] 텐서플로우를 이용하여 상수 다루기"
   ]
  },
  {
   "cell_type": "code",
   "execution_count": 1,
   "metadata": {},
   "outputs": [
    {
     "data": {
      "text/plain": [
       "3"
      ]
     },
     "execution_count": 1,
     "metadata": {},
     "output_type": "execute_result"
    }
   ],
   "source": [
    "import tensorflow as tf\n",
    "import warnings\n",
    "warnings.filterwarnings('ignore')\n",
    "\n",
    "# 1이라는 원소를 가진 텐서를 만들어 a에 대입하여라\n",
    "a = tf.constant(1)\n",
    "\n",
    "# 2라는 원소를 가진 텐서를 만들어 b에 대입하여라\n",
    "b = tf.constant(2)\n",
    "\n",
    "# a와 b를 더하여 c라는 텐서에 대입하여라\n",
    "c = tf.add(a, b)\n",
    "\n",
    "\n",
    "\"\"\"\n",
    "텐서플로우 연산은 \"연산을 수행\"시켜야 결과를 볼 수 있다\n",
    "\"\"\"\n",
    "# 세션을 연 후\n",
    "sess = tf.Session()\n",
    "\n",
    "# 세션을 수행한다.\n",
    "sess.run(c)"
   ]
  },
  {
   "cell_type": "markdown",
   "metadata": {},
   "source": [
    "### [실습2] 텐서플로우를 이용하여 변수를 다루는 법"
   ]
  },
  {
   "cell_type": "code",
   "execution_count": 2,
   "metadata": {},
   "outputs": [
    {
     "name": "stdout",
     "output_type": "stream",
     "text": [
      "WARNING:tensorflow:From C:\\Anaconda3\\lib\\site-packages\\tensorflow\\python\\framework\\op_def_library.py:263: colocate_with (from tensorflow.python.framework.ops) is deprecated and will be removed in a future version.\n",
      "Instructions for updating:\n",
      "Colocations handled automatically by placer.\n",
      "15\n"
     ]
    }
   ],
   "source": [
    "a = tf.Variable(5)\n",
    "b = tf.Variable(3)\n",
    "c = tf.multiply(a, b)\n",
    "\n",
    "\"\"\"\n",
    "[중요] 상수와 변수의 차이. 변수는 이 부분이 핵심이다\n",
    "\"\"\"\n",
    "init = tf.global_variables_initializer()\n",
    "\n",
    "\n",
    "\n",
    "sess = tf.Session()\n",
    "sess.run(init)\n",
    "v = sess.run(c)\n",
    "print(v)"
   ]
  },
  {
   "cell_type": "code",
   "execution_count": 3,
   "metadata": {},
   "outputs": [
    {
     "name": "stdout",
     "output_type": "stream",
     "text": [
      "45\n"
     ]
    }
   ],
   "source": [
    "# 변수는 값의 변경이 가능하다.\n",
    "a = tf.Variable(15)\n",
    "c = tf.multiply(a, b)\n",
    "\n",
    "# 변수 값이 바뀌었기 때문에 init도 다시 초기화\n",
    "init = tf.global_variables_initializer()\n",
    "\n",
    "sess.run(init)\n",
    "v = sess.run(c)\n",
    "print(v)"
   ]
  },
  {
   "cell_type": "markdown",
   "metadata": {},
   "source": [
    "### [실습3] Placeholder 이해하기\n",
    "* Placeholder는 다른 텐서를 할당하기 위해 사용하며, 이런 과정을 feeding 이라고 한다.\n",
    "* 텐서플로우는 그래프 형태의 표현을 활용한다.\n",
    "* 이처럼 아래의 그림에서는 입력을 담아 x가 출력을 조절하도록 할 수 있는 플레이스 홀더이다.\n",
    "\n",
    "![☆여기에저장](https://user-images.githubusercontent.com/38516906/55127894-f1f55280-5154-11e9-8122-96b9a56dcfdc.png)\n",
    "\n",
    "\n",
    "* tf.placeholder(dtype, shape, name)\n",
    "    * dtpye: 플레이스홀더에 저장되는 자료형\n",
    "    * shape: 배열의 차원을 의미\n",
    "    * name: 플레이스 홀더의 이름을 의미"
   ]
  },
  {
   "cell_type": "code",
   "execution_count": 4,
   "metadata": {},
   "outputs": [
    {
     "name": "stdout",
     "output_type": "stream",
     "text": [
      "[ 6.  7.  8.  9. 10.]\n"
     ]
    }
   ],
   "source": [
    "# 플레이스홀더 예제1\n",
    "input = [1, 2, 3, 4, 5]\n",
    "x = tf.placeholder(dtype = tf.float32)\n",
    "y = x + 5\n",
    "\n",
    "sess = tf.Session()\n",
    "result = sess.run(y,feed_dict = {x: input})\n",
    "\n",
    "print(result)"
   ]
  },
  {
   "cell_type": "code",
   "execution_count": 5,
   "metadata": {},
   "outputs": [
    {
     "name": "stdout",
     "output_type": "stream",
     "text": [
      "[72.  89.5 84.  82.5 84.5]\n"
     ]
    }
   ],
   "source": [
    "# 플레이스홀더 예제2\n",
    "mathScore = [85, 99, 84, 97, 92]\n",
    "englishScore = [59, 80, 84, 68, 77]\n",
    "\n",
    "a = tf.placeholder(dtype = tf.float32)\n",
    "b = tf.placeholder(dtype = tf.float32)\n",
    "y = (a+b) / 2\n",
    "\n",
    "sess = tf.Session()\n",
    "result = sess.run(y, feed_dict = {a: mathScore, b: englishScore})\n",
    "\n",
    "print(result)"
   ]
  },
  {
   "cell_type": "markdown",
   "metadata": {},
   "source": [
    "### [실습4] 주요 함수\n",
    "\n",
    "| 함수이름 | 기능 |\n",
    "|:---:|:---:|\n",
    "| tf.add | 덧셈 |\n",
    "| tf.subtract | 뺄셈 |\n",
    "| tf.multiply | 곱셈 |\n",
    "| tf.truediv | 나눈 **몫** |\n",
    "| tf.mod | 나눈 **나머지**|\n",
    "| tf.abs | 절대값 |"
   ]
  },
  {
   "cell_type": "code",
   "execution_count": 6,
   "metadata": {},
   "outputs": [
    {
     "name": "stdout",
     "output_type": "stream",
     "text": [
      "22 12 85 3.4 2 -17\n"
     ]
    }
   ],
   "source": [
    "a = tf.constant(17)\n",
    "b = tf.constant(5)\n",
    "\n",
    "\n",
    "\n",
    "sess = tf.Session()\n",
    "\n",
    "c = tf.add(a, b)\n",
    "v1 = sess.run(c)\n",
    "\n",
    "c = tf.subtract(a, b)\n",
    "v2 = sess.run(c)\n",
    "\n",
    "c = tf.multiply(a, b)\n",
    "v3 = sess.run(c)\n",
    "\n",
    "c = tf.truediv(a, b)\n",
    "v4 = sess.run(c)\n",
    "\n",
    "c = tf.mod(a, b)\n",
    "v5 = sess.run(c)\n",
    "\n",
    "c = -a\n",
    "v6 = sess.run(c)\n",
    "\n",
    "print(v1, v2, v3, v4, v5, v6)"
   ]
  },
  {
   "cell_type": "markdown",
   "metadata": {},
   "source": [
    "| 함수이름 | 기능 |\n",
    "|:---:|:---:|\n",
    "| tf.negative | 음수 반환 |\n",
    "| tf.sign | 부호 반환 |\n",
    "| tf.square | 제곱 수행 |\n",
    "| tf.sqrt | 제곱근 반환 |\n",
    "| tf.pow | 거듭제곱을 수행 |\n",
    "| tf.maximum | 더 큰 값을 반환 |\n",
    "| tf.minimum | 더 작은 값을 반환 |\n",
    "| tf.exp | 지수 값을 계산 |\n",
    "| tf.log | 로그 값을 계산 |\n",
    "| tf.sin | sin값을 계산 |\n",
    "| tf.cos | cos값을 계산 |"
   ]
  },
  {
   "cell_type": "code",
   "execution_count": 7,
   "metadata": {},
   "outputs": [
    {
     "name": "stdout",
     "output_type": "stream",
     "text": [
      "-17.0 1.0 289.0 289.0 17.0 5.0 148.41316 1.609438 -0.9589243 0.2836622\n"
     ]
    }
   ],
   "source": [
    "a = tf.constant(17.0)\n",
    "b = tf.constant(5.0)\n",
    "\n",
    "\n",
    "\n",
    "sess = tf.Session()\n",
    "\n",
    "c = tf.negative(a)\n",
    "v1 = sess.run(c)\n",
    "\n",
    "c = tf.sign(a)\n",
    "v2 = sess.run(c)\n",
    "\n",
    "c = tf.square(a)\n",
    "v3 = sess.run(c)\n",
    "\n",
    "c = tf.pow(a, 2)\n",
    "v4 = sess.run(c)\n",
    "\n",
    "c = tf.maximum(a, b)\n",
    "v5 = sess.run(c)\n",
    "\n",
    "c = tf.minimum(a, b)\n",
    "v6 = sess.run(c)\n",
    "\n",
    "c = tf.exp(b)\n",
    "v7 = sess.run(c)\n",
    "\n",
    "c = tf.log(b)\n",
    "v8 = sess.run(c)\n",
    "\n",
    "c = tf.sin(b)\n",
    "v9 = sess.run(c)\n",
    "\n",
    "c = tf.cos(b)\n",
    "v10 = sess.run(c)\n",
    "\n",
    "print(v1, v2, v3, v4, v5, v6, v7, v8, v9, v10)"
   ]
  },
  {
   "cell_type": "markdown",
   "metadata": {},
   "source": [
    "### [실습5] 아키텍쳐\n",
    "* 텐서플로우는 기본적으로 대규모 분산 학습 및 추론을 위한 라이브러리다. 기계학습 모델을 제공한다.\n",
    "* 텐서플로우는 크로스 플랫폼 라이브러리다. (=os 의존성이 없다)\n",
    "* 다양한 프로그래밍 언어를 이용해 작성이 가능하다.\n",
    "![☆여기에저장](https://user-images.githubusercontent.com/38516906/55128683-ce7fd700-5157-11e9-8aa4-d6483ce3fc32.png)\n",
    "\n",
    "\n",
    "1. 클라이언트: 컴퓨터 연산 과정을 데이터 플로우 그래프 형태로 표현\n",
    "2. 분산된 마스터\n",
    "    * 작업자 서비스\n",
    "        * 특정 하드웨어에게 적절한 커널 기능을 이용하는 그래프 작업의 실행을 관리\n",
    "        * 다른 작업자 서비스와 실행 결과를 주고 받는다\n",
    "    * 커널 기능\n",
    "        * 실질적인 작업 가능\n",
    "        * 작업구성도를 그래프로 그릴 수 있음"
   ]
  },
  {
   "cell_type": "markdown",
   "metadata": {},
   "source": [
    "### [실습6] 세션\n",
    "텐서플로우는 방향그래프를 기반으로 설계도어 있는 기계학습 라이브러리다.  \n",
    "따라서 일반적인 프로그래밍과는 차이가 있다."
   ]
  },
  {
   "cell_type": "code",
   "execution_count": 8,
   "metadata": {},
   "outputs": [
    {
     "name": "stdout",
     "output_type": "stream",
     "text": [
      "Tensor(\"Add_4:0\", shape=(), dtype=float32)\n"
     ]
    }
   ],
   "source": [
    "a = tf.constant(17.5)\n",
    "b = tf.constant(5.0)\n",
    "c = tf.add(a, b)\n",
    "\n",
    "# 값이 아닌 \"텐서\" 출력\n",
    "print(c)\n",
    "\n",
    "# 즉, 위와 같은 명령어는 실제로 연산을 수행한 것이 아니라\n",
    "# 그래프를 정의하는 것이다.\n",
    "# 연산을 수행하기 위해서는\n",
    "# a와 b에 데이터를 넣어서 흐름(flow)가 이루어지도록 만들어야 한다."
   ]
  },
  {
   "cell_type": "code",
   "execution_count": 9,
   "metadata": {},
   "outputs": [
    {
     "data": {
      "text/plain": [
       "22.5"
      ]
     },
     "execution_count": 9,
     "metadata": {},
     "output_type": "execute_result"
    }
   ],
   "source": [
    "# 흐름을 실행하기 위해서는 아래의 코드를 입력\n",
    "sess = tf.Session()\n",
    "sess.run(c)\n",
    "\n",
    "# 즉, 세션은 실제로 값을 대입한 그래프가 동작하도록 하는 역할을 수행하는 것이다."
   ]
  },
  {
   "cell_type": "markdown",
   "metadata": {},
   "source": [
    "### [실습7-1] Linear Regression\n",
    "* 수업시간에 사용했던 예제를 텐서플로우로 실행해보자\n",
    "* W와 b값만을 출력해보자"
   ]
  },
  {
   "cell_type": "code",
   "execution_count": 10,
   "metadata": {},
   "outputs": [
    {
     "name": "stdout",
     "output_type": "stream",
     "text": [
      "[0.6722956] [-0.10466055]\n"
     ]
    }
   ],
   "source": [
    "# 랜덤 시드 설정\n",
    "tf.set_random_seed(777) \n",
    "\n",
    "# X and Y 설정\n",
    "x_train = [1, 2, 3]\n",
    "y_train = [1, 2, 3]\n",
    "\n",
    "# 텐서 크기 1짜리 랜덤 값을 텐서변수 W에 대입하고, 이름을 weight라고 지정\n",
    "W = tf.Variable(tf.random_normal([1]), name=\"weight\")\n",
    "\n",
    "# 텐서 크기 1짜리 랜덤 값을 텐서변수 b에 대입하고, 이름을 bias라고 지정\n",
    "b = tf.Variable(tf.random_normal([1]), name=\"bias\")\n",
    "\n",
    "# 텐서 변수 초기화\n",
    "init_op = tf.global_variables_initializer()\n",
    "\n",
    "# 세션 생성\n",
    "sess = tf.Session()\n",
    "\n",
    "# 세션 실행하며, 초기화 변수 입력으로 넣기\n",
    "sess.run(init_op)\n",
    "\n",
    "# 세션 실행하여 W, b 값 입력 후, 출력 값 요청하기\n",
    "W_final, b_final = sess.run([W,b])\n",
    "\n",
    "print(W_final, b_final)\n",
    "\n",
    "# 값이 많이 흔들리고 비용함수 반복 회수가 적은 것 같아, 더욱 관여해보도록 하겠다."
   ]
  },
  {
   "cell_type": "markdown",
   "metadata": {},
   "source": [
    "### [실습7-2] Linear Regression\n",
    "비용함수 최소화 과정의 cost값과 W값, b값의 변화량을 출력해보자"
   ]
  },
  {
   "cell_type": "code",
   "execution_count": 11,
   "metadata": {},
   "outputs": [
    {
     "name": "stdout",
     "output_type": "stream",
     "text": [
      "0 12.149536 [-0.86356175] [1.0145537]\n",
      "1000 0.0027642117 [0.9390834] [0.13847794]\n",
      "2000 2.244037e-05 [0.99451137] [0.01247692]\n",
      "3000 1.823838e-07 [0.99950516] [0.00112463]\n",
      "4000 1.5119449e-09 [0.999955] [0.00010248]\n",
      "5000 1.606774e-11 [0.99999523] [1.052321e-05]\n",
      "6000 3.2448118e-12 [0.9999978] [4.4562107e-06]\n",
      "7000 3.0695446e-12 [0.99999785] [4.3504897e-06]\n",
      "8000 3.0695446e-12 [0.99999785] [4.3504897e-06]\n",
      "9000 3.0695446e-12 [0.99999785] [4.3504897e-06]\n",
      "10000 3.0695446e-12 [0.99999785] [4.3504897e-06]\n"
     ]
    },
    {
     "data": {
      "text/plain": [
       "'\\n10000번 정도의 반복회수를 돌려보니, \\n우리가 원했던 W = 1, b = 0 에 가까운 결과를 얻고 있다.\\n'"
      ]
     },
     "execution_count": 11,
     "metadata": {},
     "output_type": "execute_result"
    }
   ],
   "source": [
    "# 랜덤 시드 설정\n",
    "tf.set_random_seed(777)\n",
    "\n",
    "# X and Y 설정\n",
    "x_train = [1, 2, 3]\n",
    "y_train = [1, 2, 3]\n",
    "\n",
    "# 텐서 크기 1짜리 랜덤 값을 텐서변수 W에 대입하고, 이름을 weight라고 지정\n",
    "W = tf.Variable(tf.random_normal([1]), name = \"weight\")\n",
    "\n",
    "# 텐서 크기 1짜리 랜덤 값을 텐서변수 b에 대입하고, 이름을 bias라고 지정\n",
    "b = tf.Variable(tf.random_normal([1]), name = 'bias')\n",
    "\n",
    "\n",
    "\n",
    "\n",
    "\n",
    "# 가설 설정 그래프 생성\n",
    "hypothesis = x_train * W + b\n",
    "\n",
    "# 로스 함수/비용 함수 그래프 생성\n",
    "# 선형 회귀 함수 방정식에 맞게 비용 함수 아래와 같이 작성\n",
    "cost = tf.reduce_mean(tf.square(hypothesis - y_train))\n",
    "\n",
    "# 최소값을 찾기 위해 아래와 같이 \"경사하강최적화방법\"을 설정\n",
    "train = tf.train.GradientDescentOptimizer(learning_rate=0.01).minimize(cost)\n",
    "\n",
    "# 세션열고, 실행하여 비용함수의 최소값을 구해봄\n",
    "sess = tf.Session()\n",
    "sess.run(tf.global_variables_initializer())\n",
    "\n",
    "\n",
    "# range 안의 10001과 step%1000의 1000은 변경해서 결과를 출력해보셔도 좋습니다.\n",
    "for step in range(10001):\n",
    "  # _, 의 의미는 리턴값을 받겠다는 말\n",
    "  _, cost_val, W_val, b_val = sess.run([train, cost, W, b])\n",
    "\n",
    "  # 1000번 돌때마다 결과 값을 출력\n",
    "  if step % 1000 == 0:\n",
    "      print(step, cost_val, W_val, b_val)\n",
    "\n",
    "\n",
    "\"\"\"\n",
    "10000번 정도의 반복회수를 돌려보니, \n",
    "우리가 원했던 W = 1, b = 0 에 가까운 결과를 얻고 있다.\n",
    "\"\"\""
   ]
  },
  {
   "cell_type": "markdown",
   "metadata": {},
   "source": [
    "### [실습7-3] Linear Regression\n",
    "비용함수 최소화 과정의 cost 값과 W값, b값의 변화량을 **그림**으로 출력해보자"
   ]
  },
  {
   "cell_type": "code",
   "execution_count": 12,
   "metadata": {},
   "outputs": [
    {
     "data": {
      "image/png": "[encoded data removed]",
      "text/plain": [
       "<Figure size 432x288 with 1 Axes>"
      ]
     },
     "metadata": {
      "needs_background": "light"
     },
     "output_type": "display_data"
    }
   ],
   "source": [
    "# 그림을 그리기 위한 라이브러리 추가\n",
    "import matplotlib.pyplot as plt\n",
    "%matplotlib inline\n",
    "\n",
    "X = [1, 2, 3]\n",
    "Y = [1, 2, 3]\n",
    "\n",
    "# \n",
    "W = tf.placeholder(tf.float32)\n",
    "\n",
    "# Our hypothesis for linear model X * W\n",
    "hypothesis = X * W\n",
    "\n",
    "# cost/loss function\n",
    "cost = tf.reduce_mean(tf.square(hypothesis - Y))\n",
    "\n",
    "# Variables for plotting cost function\n",
    "W_history = []\n",
    "cost_history = []\n",
    "sess = tf.Session()\n",
    "\n",
    "# 그림그리기 위한 W와 cost 변화 값 저장\n",
    "for i in range(-30, 50):\n",
    "    curr_W = i * 0.1\n",
    "    curr_cost = sess.run(cost, feed_dict={W: curr_W})\n",
    "\n",
    "    # append 는 링크드리스트에서 매번 데이터를 insert 하는 것과 동일합니다.\n",
    "    W_history.append(curr_W)\n",
    "    cost_history.append(curr_cost)\n",
    "\n",
    "\n",
    "# Show the cost function\n",
    "plt.title('20190328_Sejong-RCV') \n",
    "plt.ylabel('cost')\n",
    "plt.xlabel('W')\n",
    "plt.plot(W_history, cost_history)\n",
    "plt.show()"
   ]
  },
  {
   "cell_type": "markdown",
   "metadata": {},
   "source": [
    "### [실습8-1] Multi-variable Linear Regression\n",
    "입력데이터 3개에 대한 예제"
   ]
  },
  {
   "cell_type": "code",
   "execution_count": 13,
   "metadata": {},
   "outputs": [
    {
     "name": "stdout",
     "output_type": "stream",
     "text": [
      "WARNING:tensorflow:From C:\\Anaconda3\\lib\\site-packages\\tensorflow\\python\\ops\\math_ops.py:3066: to_int32 (from tensorflow.python.ops.math_ops) is deprecated and will be removed in a future version.\n",
      "Instructions for updating:\n",
      "Use tf.cast instead.\n",
      "0 Cost:  90185.64 \n",
      "Prediction:\n",
      " [-123.372475 -130.12564  -138.02396  -146.272     -97.80143 ]\n",
      "2000 Cost:  10.854339 \n",
      "Prediction:\n",
      " [146.04837 188.06021 178.43605 197.84108 143.91034]\n",
      "4000 Cost:  5.3133497 \n",
      "Prediction:\n",
      " [147.81802 186.86253 178.99802 198.09421 142.4681 ]\n",
      "6000 Cost:  3.295396 \n",
      "Prediction:\n",
      " [148.8734  186.15382 179.34021 198.19548 141.66151]\n",
      "8000 Cost:  2.4824467 \n",
      "Prediction:\n",
      " [149.51208 185.73009 179.55386 198.21063 141.22311]\n",
      "10000 Cost:  2.0891068 \n",
      "Prediction:\n",
      " [149.90727 185.4726  179.69205 198.17773 140.99734]\n"
     ]
    }
   ],
   "source": [
    "import tensorflow as tf\n",
    "tf.set_random_seed(777)  \n",
    "\n",
    "# 인스턴스가 여러개인 3명의 데이터를 입력한다. \n",
    "x1_data = [73., 93., 89., 96., 73.]\n",
    "x2_data = [80., 88., 91., 98., 66.]\n",
    "x3_data = [75., 93., 90., 100., 70.]\n",
    "\n",
    "# 각각에 대한 결과 값 데이터를 입력한다.\n",
    "y_data = [152., 185., 180., 196., 142.]\n",
    "\n",
    "\n",
    "# 모든 텐서를 플레이스홀더로 지정\n",
    "x1 = tf.placeholder(tf.float32)\n",
    "x2 = tf.placeholder(tf.float32)\n",
    "x3 = tf.placeholder(tf.float32)\n",
    "Y = tf.placeholder(tf.float32)\n",
    "\n",
    "# 그리고 가설 생성을 위한 텐서변수 설정\n",
    "w1 = tf.Variable(tf.random_normal([1]), name='weight1')\n",
    "w2 = tf.Variable(tf.random_normal([1]), name='weight2')\n",
    "w3 = tf.Variable(tf.random_normal([1]), name='weight3')\n",
    "b = tf.Variable(tf.random_normal([1]), name='bias')\n",
    "\n",
    "# 가설 \n",
    "hypothesis = x1 * w1 + x2 * w2 + x3 * w3 + b\n",
    "\n",
    "# 비용함수\n",
    "cost = tf.reduce_mean(tf.square(hypothesis - Y))\n",
    "\n",
    "# 최적화방법을 풀기위해 경사하강방법 지정 동시에 learnign_rate 설정\n",
    "optimizer = tf.train.GradientDescentOptimizer(learning_rate=1e-5)\n",
    "\n",
    "# 최적화 함수에 비용함수 최소값을 구하도록 설정\n",
    "train = optimizer.minimize(cost)\n",
    "\n",
    "# 세션 열고, 세션 변수 초기화\n",
    "sess = tf.Session()\n",
    "sess.run(tf.global_variables_initializer())\n",
    "\n",
    "\n",
    "# 학습 시작, 중간에 과정결과 출력\n",
    "# 출력위헤 10001과 2000은 직접 변경 가능\n",
    "for step in range(10001):\n",
    "    cost_val, hy_val, _ = sess.run([cost, hypothesis, train],\n",
    "                                   feed_dict={x1: x1_data, x2: x2_data, x3: x3_data, Y: y_data})\n",
    "    if step % 2000 == 0:\n",
    "        print(step, \"Cost: \", cost_val, \"\\nPrediction:\\n\", hy_val)"
   ]
  },
  {
   "cell_type": "markdown",
   "metadata": {},
   "source": [
    "### [실습8-2] Multi variable Linear Regression\n",
    "* 매번 모든 데이터에 대한 변수를 설정하던 부분을 Matrix를 이용해 Multi-variable을 다뤄보자\n",
    "* 행렬을 자주 이용하도록 하자 XD"
   ]
  },
  {
   "cell_type": "code",
   "execution_count": 14,
   "metadata": {},
   "outputs": [
    {
     "name": "stdout",
     "output_type": "stream",
     "text": [
      "0 Cost:  79.53605 \n",
      "Prediction:\n",
      " [[145.95712]\n",
      " [197.97827]\n",
      " [183.01907]\n",
      " [203.67456]\n",
      " [153.16757]]\n",
      "2000 Cost:  17.066006 \n",
      "Prediction:\n",
      " [[144.6577 ]\n",
      " [188.999  ]\n",
      " [178.04393]\n",
      " [197.6404 ]\n",
      " [144.98523]]\n",
      "4000 Cost:  7.552471 \n",
      "Prediction:\n",
      " [[146.97708]\n",
      " [187.42514]\n",
      " [178.77518]\n",
      " [198.00972]\n",
      " [143.0546 ]]\n",
      "6000 Cost:  4.1786633 \n",
      "Prediction:\n",
      " [[148.35323]\n",
      " [186.49712]\n",
      " [179.21643]\n",
      " [198.17665]\n",
      " [141.96529]]\n",
      "8000 Cost:  2.8960748 \n",
      "Prediction:\n",
      " [[149.17952]\n",
      " [185.94536]\n",
      " [179.4883 ]\n",
      " [198.2282 ]\n",
      " [141.36371]]\n",
      "10000 Cost:  2.3338583 \n",
      "Prediction:\n",
      " [[149.6848 ]\n",
      " [185.61295]\n",
      " [179.66092]\n",
      " [198.21474]\n",
      " [141.04428]]\n"
     ]
    }
   ],
   "source": [
    "tf.set_random_seed(777)  \n",
    "\n",
    "\n",
    "# 입력 출력 데이터 행렬로 정의\n",
    "x_data = [[73., 80., 75.],\n",
    "          [93., 88., 93.],\n",
    "          [89., 91., 90.],\n",
    "          [96., 98., 100.],\n",
    "          [73., 66., 70.]]\n",
    "y_data = [[152.],\n",
    "          [185.],\n",
    "          [180.],\n",
    "          [196.],\n",
    "          [142.]]\n",
    "\n",
    "\n",
    "# X와 Y를 플레이스홀더에 담는다.\n",
    "# Matrix 형태로 담을 것이므로, shape을 지정한다.\n",
    "# None은 입력해주는데로 설정하겠다는 뜻으로, \n",
    "# C언어의 배열초기화 시 사용하던 아래와 동일한 표현\n",
    "# int array[] = {1,2,3,4,5,6}; \n",
    "\n",
    "X = tf.placeholder(tf.float32, shape=[None, 3])\n",
    "Y = tf.placeholder(tf.float32, shape=[None, 1])\n",
    "\n",
    "# W,b는 텐서 변수 지정\n",
    "# 달라진 점은 입력데이터 행렬설정에 따른 W 값의 shape 변화\n",
    "W = tf.Variable(tf.random_normal([3, 1]), name='weight')\n",
    "b = tf.Variable(tf.random_normal([1]), name='bias')\n",
    "\n",
    "\n",
    "# 가설 그래프 정의\n",
    "# 역시 달라진 점은, 행렬의 곱으로 정의\n",
    "hypothesis = tf.matmul(X, W) + b\n",
    "\n",
    "# 비용함수 그래스 정의\n",
    "cost = tf.reduce_mean(tf.square(hypothesis - Y))\n",
    "\n",
    "# 최적화방법을 풀기위해 경사하강방법 지정 동시에 learnign_rate 설정\n",
    "optimizer = tf.train.GradientDescentOptimizer(learning_rate=1e-5)\n",
    "\n",
    "# 최적화 함수에 비용함수 최소값을 구하도록 설정\n",
    "train = optimizer.minimize(cost)\n",
    "\n",
    "\n",
    "# 세션 열고, 세션 변수 초기화\n",
    "sess = tf.Session()\n",
    "sess.run(tf.global_variables_initializer())\n",
    "\n",
    "\n",
    "# 학습 시작, 중간에 과정결과 출력\n",
    "# 출력위헤 10001과 2000은 직접 변경 가능\n",
    "for step in range(10001):\n",
    "    cost_val, hy_val, _ = sess.run(\n",
    "        [cost, hypothesis, train], feed_dict={X: x_data, Y: y_data})\n",
    "    if step % 2000 == 0:\n",
    "        print(step, \"Cost: \", cost_val, \"\\nPrediction:\\n\", hy_val)"
   ]
  }
 ],
 "metadata": {
  "kernelspec": {
   "display_name": "Python 3",
   "language": "python",
   "name": "python3"
  },
  "language_info": {
   "codemirror_mode": {
    "name": "ipython",
    "version": 3
   },
   "file_extension": ".py",
   "mimetype": "text/x-python",
   "name": "python",
   "nbconvert_exporter": "python",
   "pygments_lexer": "ipython3",
   "version": "3.7.1"
  }
 },
 "nbformat": 4,
 "nbformat_minor": 2
}

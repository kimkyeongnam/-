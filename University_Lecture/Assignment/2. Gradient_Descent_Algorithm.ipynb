{
  "nbformat": 4,
  "nbformat_minor": 0,
  "metadata": {
    "colab": {
      "name": "2. Gradient Descent Algorithm",
      "version": "0.3.2",
      "provenance": [],
      "collapsed_sections": []
    },
    "kernelspec": {
      "name": "python3",
      "display_name": "Python 3"
    }
  },
  "cells": [
    {
      "metadata": {
        "id": "_V26pT9lLgBR",
        "colab_type": "text"
      },
      "cell_type": "markdown",
      "source": [
        "## 파이썬으로 Gradient Descent Algorithm 작성하기\n",
        "\n",
        "\n",
        "### 과제 방법\n",
        "\n",
        "gradient_descent 함수를 완성하시오.\n",
        "\n",
        "반드시 스스로 직접! 해보세요.\n"
      ]
    },
    {
      "metadata": {
        "id": "TIG0uklDJc82",
        "colab_type": "code",
        "colab": {}
      },
      "cell_type": "code",
      "source": [
        "from numpy import *\n",
        "import os\n",
        "\n",
        "\n",
        "\n",
        "def gradient_descent(points, starting_b, starting_m, learning_rate, num_iterations):\n",
        "\n",
        "    #\n",
        "    # 본 함수를 완성하시오.\n",
        "    #   \n",
        "    b = starting_b\n",
        "    m = starting_m\n",
        "    n=len(points[:,1])\n",
        "    \n",
        "    #맨 왼쪽에 행 순서 나온거 빼고 활용하기\n",
        "    for i in range(num_iterations):\n",
        "        pred = dot(points[:,0],m)+b\n",
        "        m = m-(1/n)*learning_rate*(points[:,0].T.dot(pred-points[:,1])) \n",
        "        b = b-learning_rate*(mean(pred-points[:,1]))\n",
        "        \n",
        "        # 확인용\n",
        "        #if i%200 == 0:\n",
        "          #print('b={}, m={}'.format(m,b))\n",
        "          \n",
        "    return [b, m]"
      ],
      "execution_count": 0,
      "outputs": []
    },
    {
      "metadata": {
        "id": "iXCfRQ3_Fgip",
        "colab_type": "code",
        "outputId": "f529b157-a83c-4b0b-8962-c9f8e34b6a65",
        "colab": {
          "base_uri": "https://localhost:8080/",
          "height": 136
        }
      },
      "cell_type": "code",
      "source": [
        "# 학습 데이터 다운로드\n",
        "if os.path.exists('20190407_data.csv')==False:\n",
        "    print('Train data downloading..')\n",
        "    ! curl 'https://raw.githubusercontent.com/unizard/2019.Spring.AI/master/20190407_data.csv' -o './20190407_data.csv'        \n",
        "    print('Done..\\n')\n",
        "else:\n",
        "    print('File already exists \\n')\n",
        "    \n",
        "\n",
        "\n",
        "\n",
        "def run():\n",
        "    points = genfromtxt(\"20190407_data.csv\", delimiter=\",\")\n",
        "    learning_rate = 0.0001\n",
        "    initial_b = 0 # initial y-intercept guess\n",
        "    initial_m = 0 # initial slope guess\n",
        "    num_iterations = 1000\n",
        "    \n",
        "    print(\"========================\")\n",
        "    print(\" Start\")    \n",
        "    print(\"========================\")\n",
        "    [b, w] = gradient_descent(points, initial_b, initial_m, learning_rate, num_iterations)\n",
        "    print(\"b=\",b)\n",
        "    print(\"w=\",w)\n",
        "    # print(\"finish\")\n",
        "    \n",
        "    \n",
        "    \n",
        "if __name__ == '__main__':\n",
        "    run()\n"
      ],
      "execution_count": 0,
      "outputs": [
        {
          "output_type": "stream",
          "text": [
            "File already exists \n",
            "\n",
            "========================\n",
            " Start\n",
            "========================\n",
            "b= 0.0590585566421608\n",
            "w= 1.4783313274545458\n"
          ],
          "name": "stdout"
        }
      ]
    },
    {
      "metadata": {
        "id": "NAm3Zsfda8yL",
        "colab_type": "code",
        "colab": {}
      },
      "cell_type": "code",
      "source": [
        ""
      ],
      "execution_count": 0,
      "outputs": []
    }
  ]
}
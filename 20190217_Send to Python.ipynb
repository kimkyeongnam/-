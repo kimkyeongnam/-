{
 "cells": [
  {
   "cell_type": "markdown",
   "metadata": {},
   "source": [
    "# [Email 보내기]\n",
    "Setting->Forwarding and POP/IMAP(전달 및 POP/IMAP) -> IMAP access: -> Enable IMAP"
   ]
  },
  {
   "cell_type": "code",
   "execution_count": 23,
   "metadata": {},
   "outputs": [],
   "source": [
    "import smtplib"
   ]
  },
  {
   "cell_type": "code",
   "execution_count": 24,
   "metadata": {},
   "outputs": [],
   "source": [
    "fromaddress='kkyy0126@gmail.com'  #보내고 싶은 이메일 주소\n",
    "pw=''  #각자 비밀번호\n",
    "toaddress='kkyy0126@naver.com'  #받고 싶은 이메일 주소\n",
    "\n",
    "text = '안녕! 이 메일은 파이썬으로 보내는거야' #이메일 내용\n",
    "euc_text = text.encode('euc-kr')"
   ]
  },
  {
   "cell_type": "markdown",
   "metadata": {},
   "source": [
    "### *포트 주소 확인 방법\n",
    "https://support.google.com/mail/answer/7126229?visit_id=636859633059967405-2184782878&hl=ko&rd=1\n",
    "TLS/STARTTLS용 포트: 587"
   ]
  },
  {
   "cell_type": "code",
   "execution_count": 25,
   "metadata": {},
   "outputs": [
    {
     "data": {
      "text/plain": [
       "(220, b'2.0.0 Ready to start TLS')"
      ]
     },
     "execution_count": 25,
     "metadata": {},
     "output_type": "execute_result"
    }
   ],
   "source": [
    "s=smtplib.SMTP('smtp.gmail.com',587)\n",
    "\n",
    "s.starttls()"
   ]
  },
  {
   "cell_type": "markdown",
   "metadata": {},
   "source": [
    "### *보안 수준이 낮은 앱의 액세스: \"허용\"으로 설정\n",
    "https://myaccount.google.com/security"
   ]
  },
  {
   "cell_type": "code",
   "execution_count": 27,
   "metadata": {},
   "outputs": [
    {
     "data": {
      "text/plain": [
       "(221, b'2.0.0 closing connection k128sm12388555pfc.34 - gsmtp')"
      ]
     },
     "execution_count": 27,
     "metadata": {},
     "output_type": "execute_result"
    }
   ],
   "source": [
    "s.login(fromaddress, pw)\n",
    "\n",
    "s.sendmail(fromaddress, toaddress, euc_text)\n",
    "#s.sendmail(from_addr=fromaddress, to_addrs=toaddress, msg=text)\n",
    "\n",
    "s.quit()"
   ]
  },
  {
   "cell_type": "code",
   "execution_count": null,
   "metadata": {},
   "outputs": [],
   "source": []
  }
 ],
 "metadata": {
  "kernelspec": {
   "display_name": "Python 3",
   "language": "python",
   "name": "python3"
  },
  "language_info": {
   "codemirror_mode": {
    "name": "ipython",
    "version": 3
   },
   "file_extension": ".py",
   "mimetype": "text/x-python",
   "name": "python",
   "nbconvert_exporter": "python",
   "pygments_lexer": "ipython3",
   "version": "3.7.1"
  }
 },
 "nbformat": 4,
 "nbformat_minor": 2
}
